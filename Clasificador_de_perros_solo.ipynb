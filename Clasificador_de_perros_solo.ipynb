{
  "nbformat": 4,
  "nbformat_minor": 0,
  "metadata": {
    "colab": {
      "name": "Clasificador de perros_solo.ipynb",
      "provenance": []
    },
    "kernelspec": {
      "name": "python3",
      "display_name": "Python 3"
    },
    "language_info": {
      "name": "python"
    },
    "accelerator": "GPU",
    "widgets": {
      "application/vnd.jupyter.widget-state+json": {
        "9e5c7d2fd21442fd9d1747e73bc3caf5": {
          "model_module": "@jupyter-widgets/controls",
          "model_name": "VBoxModel",
          "model_module_version": "1.5.0",
          "state": {
            "_view_name": "VBoxView",
            "_dom_classes": [],
            "_model_name": "VBoxModel",
            "_view_module": "@jupyter-widgets/controls",
            "_model_module_version": "1.5.0",
            "_view_count": null,
            "_view_module_version": "1.5.0",
            "box_style": "",
            "layout": "IPY_MODEL_f958945bb30d40af9ca528dcbe87b9c4",
            "_model_module": "@jupyter-widgets/controls",
            "children": [
              "IPY_MODEL_2cd57354cb5f41949d3c74d6399e03f1",
              "IPY_MODEL_4a1f8b2e635743eb9fea03530ac09382",
              "IPY_MODEL_13f92460d8e7496ea23fc85a4b479c59",
              "IPY_MODEL_70db7275685641cf8a3dc5c7b59537f4",
              "IPY_MODEL_8dd928c32012478e9040c4af71c66ada"
            ]
          }
        },
        "f958945bb30d40af9ca528dcbe87b9c4": {
          "model_module": "@jupyter-widgets/base",
          "model_name": "LayoutModel",
          "model_module_version": "1.2.0",
          "state": {
            "_view_name": "LayoutView",
            "grid_template_rows": null,
            "right": null,
            "justify_content": null,
            "_view_module": "@jupyter-widgets/base",
            "overflow": null,
            "_model_module_version": "1.2.0",
            "_view_count": null,
            "flex_flow": null,
            "width": null,
            "min_width": null,
            "border": null,
            "align_items": null,
            "bottom": null,
            "_model_module": "@jupyter-widgets/base",
            "top": null,
            "grid_column": null,
            "overflow_y": null,
            "overflow_x": null,
            "grid_auto_flow": null,
            "grid_area": null,
            "grid_template_columns": null,
            "flex": null,
            "_model_name": "LayoutModel",
            "justify_items": null,
            "grid_row": null,
            "max_height": null,
            "align_content": null,
            "visibility": null,
            "align_self": null,
            "height": null,
            "min_height": null,
            "padding": null,
            "grid_auto_rows": null,
            "grid_gap": null,
            "max_width": null,
            "order": null,
            "_view_module_version": "1.2.0",
            "grid_template_areas": null,
            "object_position": null,
            "object_fit": null,
            "grid_auto_columns": null,
            "margin": null,
            "display": null,
            "left": null
          }
        },
        "2cd57354cb5f41949d3c74d6399e03f1": {
          "model_module": "@jupyter-widgets/controls",
          "model_name": "LabelModel",
          "model_module_version": "1.5.0",
          "state": {
            "_view_name": "LabelView",
            "style": "IPY_MODEL_3ce29868b58b423cbecf410615d44dc8",
            "_dom_classes": [],
            "description": "",
            "_model_name": "LabelModel",
            "placeholder": "​",
            "_view_module": "@jupyter-widgets/controls",
            "_model_module_version": "1.5.0",
            "value": "Sube una imagen de tu perro:",
            "_view_count": null,
            "_view_module_version": "1.5.0",
            "description_tooltip": null,
            "_model_module": "@jupyter-widgets/controls",
            "layout": "IPY_MODEL_2ab79be94ea64e2b9791645cf20ddf2b"
          }
        },
        "4a1f8b2e635743eb9fea03530ac09382": {
          "model_module": "@jupyter-widgets/controls",
          "model_name": "FileUploadModel",
          "model_module_version": "1.5.0",
          "state": {
            "_view_name": "FileUploadView",
            "_counter": 3,
            "style": "IPY_MODEL_711a9e1429494a738d3cedb2b890a678",
            "_dom_classes": [],
            "description": "Upload",
            "multiple": false,
            "_model_name": "FileUploadModel",
            "data": [
              null
            ],
            "button_style": "",
            "_view_module": "@jupyter-widgets/controls",
            "_model_module_version": "1.5.0",
            "accept": "",
            "_view_count": null,
            "disabled": false,
            "_view_module_version": "1.5.0",
            "error": "",
            "description_tooltip": null,
            "metadata": [
              {
                "name": "boxer-cachorro-1200x900.jpg",
                "type": "image/jpeg",
                "size": 107509,
                "lastModified": 1646351067989
              }
            ],
            "_model_module": "@jupyter-widgets/controls",
            "layout": "IPY_MODEL_a530dfd8f30d44698ce9eb2ae1d231ae",
            "icon": "upload"
          }
        },
        "13f92460d8e7496ea23fc85a4b479c59": {
          "model_module": "@jupyter-widgets/controls",
          "model_name": "ButtonModel",
          "model_module_version": "1.5.0",
          "state": {
            "_view_name": "ButtonView",
            "style": "IPY_MODEL_e55d4221ff4c4cfaa86dbbcddceee689",
            "_dom_classes": [],
            "description": "Classify",
            "_model_name": "ButtonModel",
            "button_style": "",
            "_view_module": "@jupyter-widgets/controls",
            "_model_module_version": "1.5.0",
            "tooltip": "",
            "_view_count": null,
            "disabled": false,
            "_view_module_version": "1.5.0",
            "layout": "IPY_MODEL_b7be21cacdda49ecb45d8c87adea9a4b",
            "_model_module": "@jupyter-widgets/controls",
            "icon": ""
          }
        },
        "70db7275685641cf8a3dc5c7b59537f4": {
          "model_module": "@jupyter-widgets/output",
          "model_name": "OutputModel",
          "model_module_version": "1.0.0",
          "state": {
            "_view_name": "OutputView",
            "msg_id": "",
            "_dom_classes": [],
            "_model_name": "OutputModel",
            "outputs": [
              {
                "output_type": "display_data",
                "data": {
                  "image/png": "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\n",
                  "text/plain": "<PIL.Image.Image image mode=RGB size=128x96 at 0x7FB12F391850>"
                },
                "metadata": {}
              }
            ],
            "_view_module": "@jupyter-widgets/output",
            "_model_module_version": "1.0.0",
            "_view_count": null,
            "_view_module_version": "1.0.0",
            "layout": "IPY_MODEL_f6298ffb0d8e464ba679ddac5cb4a64f",
            "_model_module": "@jupyter-widgets/output"
          }
        },
        "8dd928c32012478e9040c4af71c66ada": {
          "model_module": "@jupyter-widgets/controls",
          "model_name": "LabelModel",
          "model_module_version": "1.5.0",
          "state": {
            "_view_name": "LabelView",
            "style": "IPY_MODEL_b2ae36cf00224d519b939cf5f039d0de",
            "_dom_classes": [],
            "description": "",
            "_model_name": "LabelModel",
            "placeholder": "​",
            "_view_module": "@jupyter-widgets/controls",
            "_model_module_version": "1.5.0",
            "value": "Predicción: Boxer; Probabilidad: 0.9071",
            "_view_count": null,
            "_view_module_version": "1.5.0",
            "description_tooltip": null,
            "_model_module": "@jupyter-widgets/controls",
            "layout": "IPY_MODEL_2b776069b1e9463c8d3d9a4411ffccd2"
          }
        },
        "3ce29868b58b423cbecf410615d44dc8": {
          "model_module": "@jupyter-widgets/controls",
          "model_name": "DescriptionStyleModel",
          "model_module_version": "1.5.0",
          "state": {
            "_view_name": "StyleView",
            "_model_name": "DescriptionStyleModel",
            "description_width": "",
            "_view_module": "@jupyter-widgets/base",
            "_model_module_version": "1.5.0",
            "_view_count": null,
            "_view_module_version": "1.2.0",
            "_model_module": "@jupyter-widgets/controls"
          }
        },
        "2ab79be94ea64e2b9791645cf20ddf2b": {
          "model_module": "@jupyter-widgets/base",
          "model_name": "LayoutModel",
          "model_module_version": "1.2.0",
          "state": {
            "_view_name": "LayoutView",
            "grid_template_rows": null,
            "right": null,
            "justify_content": null,
            "_view_module": "@jupyter-widgets/base",
            "overflow": null,
            "_model_module_version": "1.2.0",
            "_view_count": null,
            "flex_flow": null,
            "width": null,
            "min_width": null,
            "border": null,
            "align_items": null,
            "bottom": null,
            "_model_module": "@jupyter-widgets/base",
            "top": null,
            "grid_column": null,
            "overflow_y": null,
            "overflow_x": null,
            "grid_auto_flow": null,
            "grid_area": null,
            "grid_template_columns": null,
            "flex": null,
            "_model_name": "LayoutModel",
            "justify_items": null,
            "grid_row": null,
            "max_height": null,
            "align_content": null,
            "visibility": null,
            "align_self": null,
            "height": null,
            "min_height": null,
            "padding": null,
            "grid_auto_rows": null,
            "grid_gap": null,
            "max_width": null,
            "order": null,
            "_view_module_version": "1.2.0",
            "grid_template_areas": null,
            "object_position": null,
            "object_fit": null,
            "grid_auto_columns": null,
            "margin": null,
            "display": null,
            "left": null
          }
        },
        "711a9e1429494a738d3cedb2b890a678": {
          "model_module": "@jupyter-widgets/controls",
          "model_name": "ButtonStyleModel",
          "model_module_version": "1.5.0",
          "state": {
            "_view_name": "StyleView",
            "_model_name": "ButtonStyleModel",
            "_view_module": "@jupyter-widgets/base",
            "_model_module_version": "1.5.0",
            "_view_count": null,
            "button_color": null,
            "font_weight": "",
            "_view_module_version": "1.2.0",
            "_model_module": "@jupyter-widgets/controls"
          }
        },
        "a530dfd8f30d44698ce9eb2ae1d231ae": {
          "model_module": "@jupyter-widgets/base",
          "model_name": "LayoutModel",
          "model_module_version": "1.2.0",
          "state": {
            "_view_name": "LayoutView",
            "grid_template_rows": null,
            "right": null,
            "justify_content": null,
            "_view_module": "@jupyter-widgets/base",
            "overflow": null,
            "_model_module_version": "1.2.0",
            "_view_count": null,
            "flex_flow": null,
            "width": null,
            "min_width": null,
            "border": null,
            "align_items": null,
            "bottom": null,
            "_model_module": "@jupyter-widgets/base",
            "top": null,
            "grid_column": null,
            "overflow_y": null,
            "overflow_x": null,
            "grid_auto_flow": null,
            "grid_area": null,
            "grid_template_columns": null,
            "flex": null,
            "_model_name": "LayoutModel",
            "justify_items": null,
            "grid_row": null,
            "max_height": null,
            "align_content": null,
            "visibility": null,
            "align_self": null,
            "height": null,
            "min_height": null,
            "padding": null,
            "grid_auto_rows": null,
            "grid_gap": null,
            "max_width": null,
            "order": null,
            "_view_module_version": "1.2.0",
            "grid_template_areas": null,
            "object_position": null,
            "object_fit": null,
            "grid_auto_columns": null,
            "margin": null,
            "display": null,
            "left": null
          }
        },
        "e55d4221ff4c4cfaa86dbbcddceee689": {
          "model_module": "@jupyter-widgets/controls",
          "model_name": "ButtonStyleModel",
          "model_module_version": "1.5.0",
          "state": {
            "_view_name": "StyleView",
            "_model_name": "ButtonStyleModel",
            "_view_module": "@jupyter-widgets/base",
            "_model_module_version": "1.5.0",
            "_view_count": null,
            "button_color": null,
            "font_weight": "",
            "_view_module_version": "1.2.0",
            "_model_module": "@jupyter-widgets/controls"
          }
        },
        "b7be21cacdda49ecb45d8c87adea9a4b": {
          "model_module": "@jupyter-widgets/base",
          "model_name": "LayoutModel",
          "model_module_version": "1.2.0",
          "state": {
            "_view_name": "LayoutView",
            "grid_template_rows": null,
            "right": null,
            "justify_content": null,
            "_view_module": "@jupyter-widgets/base",
            "overflow": null,
            "_model_module_version": "1.2.0",
            "_view_count": null,
            "flex_flow": null,
            "width": null,
            "min_width": null,
            "border": null,
            "align_items": null,
            "bottom": null,
            "_model_module": "@jupyter-widgets/base",
            "top": null,
            "grid_column": null,
            "overflow_y": null,
            "overflow_x": null,
            "grid_auto_flow": null,
            "grid_area": null,
            "grid_template_columns": null,
            "flex": null,
            "_model_name": "LayoutModel",
            "justify_items": null,
            "grid_row": null,
            "max_height": null,
            "align_content": null,
            "visibility": null,
            "align_self": null,
            "height": null,
            "min_height": null,
            "padding": null,
            "grid_auto_rows": null,
            "grid_gap": null,
            "max_width": null,
            "order": null,
            "_view_module_version": "1.2.0",
            "grid_template_areas": null,
            "object_position": null,
            "object_fit": null,
            "grid_auto_columns": null,
            "margin": null,
            "display": null,
            "left": null
          }
        },
        "b2ae36cf00224d519b939cf5f039d0de": {
          "model_module": "@jupyter-widgets/controls",
          "model_name": "DescriptionStyleModel",
          "model_module_version": "1.5.0",
          "state": {
            "_view_name": "StyleView",
            "_model_name": "DescriptionStyleModel",
            "description_width": "",
            "_view_module": "@jupyter-widgets/base",
            "_model_module_version": "1.5.0",
            "_view_count": null,
            "_view_module_version": "1.2.0",
            "_model_module": "@jupyter-widgets/controls"
          }
        },
        "2b776069b1e9463c8d3d9a4411ffccd2": {
          "model_module": "@jupyter-widgets/base",
          "model_name": "LayoutModel",
          "model_module_version": "1.2.0",
          "state": {
            "_view_name": "LayoutView",
            "grid_template_rows": null,
            "right": null,
            "justify_content": null,
            "_view_module": "@jupyter-widgets/base",
            "overflow": null,
            "_model_module_version": "1.2.0",
            "_view_count": null,
            "flex_flow": null,
            "width": null,
            "min_width": null,
            "border": null,
            "align_items": null,
            "bottom": null,
            "_model_module": "@jupyter-widgets/base",
            "top": null,
            "grid_column": null,
            "overflow_y": null,
            "overflow_x": null,
            "grid_auto_flow": null,
            "grid_area": null,
            "grid_template_columns": null,
            "flex": null,
            "_model_name": "LayoutModel",
            "justify_items": null,
            "grid_row": null,
            "max_height": null,
            "align_content": null,
            "visibility": null,
            "align_self": null,
            "height": null,
            "min_height": null,
            "padding": null,
            "grid_auto_rows": null,
            "grid_gap": null,
            "max_width": null,
            "order": null,
            "_view_module_version": "1.2.0",
            "grid_template_areas": null,
            "object_position": null,
            "object_fit": null,
            "grid_auto_columns": null,
            "margin": null,
            "display": null,
            "left": null
          }
        },
        "f6298ffb0d8e464ba679ddac5cb4a64f": {
          "model_module": "@jupyter-widgets/base",
          "model_name": "LayoutModel",
          "model_module_version": "1.2.0",
          "state": {
            "_view_name": "LayoutView",
            "grid_template_rows": null,
            "right": null,
            "justify_content": null,
            "_view_module": "@jupyter-widgets/base",
            "overflow": null,
            "_model_module_version": "1.2.0",
            "_view_count": null,
            "flex_flow": null,
            "width": null,
            "min_width": null,
            "border": null,
            "align_items": null,
            "bottom": null,
            "_model_module": "@jupyter-widgets/base",
            "top": null,
            "grid_column": null,
            "overflow_y": null,
            "overflow_x": null,
            "grid_auto_flow": null,
            "grid_area": null,
            "grid_template_columns": null,
            "flex": null,
            "_model_name": "LayoutModel",
            "justify_items": null,
            "grid_row": null,
            "max_height": null,
            "align_content": null,
            "visibility": null,
            "align_self": null,
            "height": null,
            "min_height": null,
            "padding": null,
            "grid_auto_rows": null,
            "grid_gap": null,
            "max_width": null,
            "order": null,
            "_view_module_version": "1.2.0",
            "grid_template_areas": null,
            "object_position": null,
            "object_fit": null,
            "grid_auto_columns": null,
            "margin": null,
            "display": null,
            "left": null
          }
        }
      }
    }
  },
  "cells": [
    {
      "cell_type": "code",
      "execution_count": null,
      "metadata": {
        "id": "SV32HBYVDvDD"
      },
      "outputs": [],
      "source": [
        "#@title Importamos las librerías ejecutando esta celda. { display-mode: \"form\" }\n",
        "\n",
        "!pip install -Uqq fastbook\n",
        "import fastbook\n",
        "fastbook.setup_book()\n",
        "from fastbook import *\n",
        "from fastai.vision.widgets import *"
      ]
    },
    {
      "cell_type": "code",
      "source": [
        "#@title Cargamos la aplicación en sí { display-mode: \"form\" }\n",
        "path = Path()\n",
        "path = Path('/content/gdrive/MyDrive/Colab Notebooks/Pytorch_FastAI')\n",
        "learn_inf = load_learner(path/'export.pkl')"
      ],
      "metadata": {
        "id": "35wlInkzOGaK"
      },
      "execution_count": 8,
      "outputs": []
    },
    {
      "cell_type": "markdown",
      "source": [
        "##Haz click en el botón upload y selecciona tu imagen para predecir:"
      ],
      "metadata": {
        "id": "Lk8oGsV3JPG6"
      }
    },
    {
      "cell_type": "code",
      "source": [
        "#@title Este Workbook adivina razas de perros, sube una foto del que quieras identificar:\n",
        "\n",
        "btn_upload = widgets.FileUpload()\n",
        "btn_upload\n",
        "img = PILImage.create(btn_upload.data[-1])\n",
        "out_pl = widgets.Output()\n",
        "out_pl.clear_output()\n",
        "with out_pl: display(img.to_thumb(128,128))\n",
        "out_pl\n",
        "pred,pred_idx,probs = learn_inf.predict(img)\n",
        "lbl_pred = widgets.Label()\n",
        "lbl_pred.value = f'Prediction: {pred}; Probability: {probs[pred_idx]:.04f}'\n",
        "lbl_pred\n",
        "btn_run = widgets.Button(description='Classify')\n",
        "btn_run\n",
        "\n",
        "def on_click_classify(change):\n",
        "    img = PILImage.create(btn_upload.data[-1])\n",
        "    out_pl.clear_output()\n",
        "    with out_pl: display(img.to_thumb(128,128))\n",
        "    pred,pred_idx,probs = learn_inf.predict(img)\n",
        "    lbl_pred.value = f'Predicción: {pred}; Probabilidad: {probs[pred_idx]:.04f}'\n",
        "\n",
        "btn_run.on_click(on_click_classify)"
      ],
      "metadata": {
        "id": "XjkiUJblOV2N",
        "cellView": "form"
      },
      "execution_count": null,
      "outputs": []
    },
    {
      "cell_type": "code",
      "source": [
        "VBox([widgets.Label('Sube una imagen de tu perro:'),\n",
        "      btn_upload, btn_run, out_pl, lbl_pred])"
      ],
      "metadata": {
        "id": "OYUe59ETG017",
        "colab": {
          "base_uri": "https://localhost:8080/",
          "height": 241,
          "referenced_widgets": [
            "9e5c7d2fd21442fd9d1747e73bc3caf5",
            "f958945bb30d40af9ca528dcbe87b9c4",
            "2cd57354cb5f41949d3c74d6399e03f1",
            "4a1f8b2e635743eb9fea03530ac09382",
            "13f92460d8e7496ea23fc85a4b479c59",
            "70db7275685641cf8a3dc5c7b59537f4",
            "8dd928c32012478e9040c4af71c66ada",
            "3ce29868b58b423cbecf410615d44dc8",
            "2ab79be94ea64e2b9791645cf20ddf2b",
            "711a9e1429494a738d3cedb2b890a678",
            "a530dfd8f30d44698ce9eb2ae1d231ae",
            "e55d4221ff4c4cfaa86dbbcddceee689",
            "b7be21cacdda49ecb45d8c87adea9a4b",
            "b2ae36cf00224d519b939cf5f039d0de",
            "2b776069b1e9463c8d3d9a4411ffccd2",
            "f6298ffb0d8e464ba679ddac5cb4a64f"
          ]
        },
        "outputId": "fb84e694-d671-4749-9ba3-b6ba36b3e4d6"
      },
      "execution_count": 18,
      "outputs": [
        {
          "output_type": "display_data",
          "data": {
            "application/vnd.jupyter.widget-view+json": {
              "model_id": "9e5c7d2fd21442fd9d1747e73bc3caf5",
              "version_minor": 0,
              "version_major": 2
            },
            "text/plain": [
              "VBox(children=(Label(value='Sube una imagen de tu perro:'), FileUpload(value={'boxer-cachorro-1200x900.jpg': {…"
            ]
          },
          "metadata": {}
        },
        {
          "output_type": "display_data",
          "data": {
            "text/html": [
              "\n",
              "<style>\n",
              "    /* Turns off some styling */\n",
              "    progress {\n",
              "        /* gets rid of default border in Firefox and Opera. */\n",
              "        border: none;\n",
              "        /* Needs to be in here for Safari polyfill so background images work as expected. */\n",
              "        background-size: auto;\n",
              "    }\n",
              "    .progress-bar-interrupted, .progress-bar-interrupted::-webkit-progress-bar {\n",
              "        background: #F44336;\n",
              "    }\n",
              "</style>\n"
            ],
            "text/plain": [
              "<IPython.core.display.HTML object>"
            ]
          },
          "metadata": {}
        },
        {
          "output_type": "display_data",
          "data": {
            "text/html": [
              ""
            ],
            "text/plain": [
              "<IPython.core.display.HTML object>"
            ]
          },
          "metadata": {}
        },
        {
          "output_type": "display_data",
          "data": {
            "text/html": [
              "\n",
              "<style>\n",
              "    /* Turns off some styling */\n",
              "    progress {\n",
              "        /* gets rid of default border in Firefox and Opera. */\n",
              "        border: none;\n",
              "        /* Needs to be in here for Safari polyfill so background images work as expected. */\n",
              "        background-size: auto;\n",
              "    }\n",
              "    .progress-bar-interrupted, .progress-bar-interrupted::-webkit-progress-bar {\n",
              "        background: #F44336;\n",
              "    }\n",
              "</style>\n"
            ],
            "text/plain": [
              "<IPython.core.display.HTML object>"
            ]
          },
          "metadata": {}
        },
        {
          "output_type": "display_data",
          "data": {
            "text/html": [
              ""
            ],
            "text/plain": [
              "<IPython.core.display.HTML object>"
            ]
          },
          "metadata": {}
        }
      ]
    }
  ]
}